{
 "cells": [
  {
   "cell_type": "markdown",
   "metadata": {},
   "source": [
    "# Question 4"
   ]
  },
  {
   "cell_type": "markdown",
   "metadata": {},
   "source": [
    "The yield $\\Phi$ is given as a function of $C_A$. If $\\Phi$ is maximal, then the derivative $\\Phi'$ is zero. So let's first calculate the derivative. For this we use the quotient rule"
   ]
  },
  {
   "cell_type": "code",
   "execution_count": 28,
   "metadata": {},
   "outputs": [
    {
     "data": {
      "text/latex": [
       "\\begin{align}\n",
       "\\Phi' &= \\frac{d \\Phi}{d C_A} = \\frac{0.2}{0.025+0.2C_A+0.4C_A^2} - \\frac{0.2C_A}{(0.025+0.2C_A+0.4C_A^2)^2}(0.2+0.8 C_A) \\\\\n",
       " &= \\frac{0.2(0.025+0.2C_A+0.4C_A^2)}{(0.025+0.2C_A+0.4C_A^2)^2} - \\frac{0.2C_A(0.2+0.8 C_A)}{(0.025+0.2C_A+0.4C_A^2)^2} \\\\\n",
       " &= \\frac{0.2(0.025+0.2C_A+0.4C_A^2)-0.2 C_A(0.2+0.8 C_A)}{(0.025+0.2C_A+0.4C_A^2)^2} \\\\\n",
       " &=0.2 \\frac{(0.025-0.4C_A^2)}{(0.025+0.2C_A+0.4C_A^2)^2} \n",
       "\\end{align}"
      ],
      "text/plain": [
       "<IPython.core.display.Latex object>"
      ]
     },
     "metadata": {},
     "output_type": "display_data"
    }
   ],
   "source": [
    "%%latex\n",
    "\\begin{align}\n",
    "\\Phi' &= \\frac{d \\Phi}{d C_A} = \\frac{0.2}{0.025+0.2C_A+0.4C_A^2} - \\frac{0.2C_A}{(0.025+0.2C_A+0.4C_A^2)^2}(0.2+0.8 C_A) \\\\\n",
    " &= \\frac{0.2(0.025+0.2C_A+0.4C_A^2)}{(0.025+0.2C_A+0.4C_A^2)^2} - \\frac{0.2C_A(0.2+0.8 C_A)}{(0.025+0.2C_A+0.4C_A^2)^2} \\\\\n",
    " &= \\frac{0.2(0.025+0.2C_A+0.4C_A^2)-0.2 C_A(0.2+0.8 C_A)}{(0.025+0.2C_A+0.4C_A^2)^2} \\\\\n",
    " &=0.2 \\frac{(0.025-0.4C_A^2)}{(0.025+0.2C_A+0.4C_A^2)^2} \n",
    "\\end{align}"
   ]
  },
  {
   "cell_type": "markdown",
   "metadata": {},
   "source": [
    "The derivative $\\Phi'$ is zero if the numerator $(0.025-0.4C_A^2)$ is zero. This we can solve with the abc-formula:"
   ]
  },
  {
   "cell_type": "markdown",
   "metadata": {},
   "source": [
    "$C_A = \\pm \\sqrt{ \\frac{0.025}{0.4}} = \\pm 0.25$"
   ]
  },
  {
   "cell_type": "markdown",
   "metadata": {},
   "source": [
    "The negative solution does not make sense (we cannot have a negative concentration). So the only possibility is $C_A=0.25$. This can be either a maximum or minimum of $\\Phi$, so you should check that $C_A$ is indeed a maximum of $\\Phi$."
   ]
  },
  {
   "cell_type": "markdown",
   "metadata": {},
   "source": [
    "So the optimum concentration is $C_A=0.25$. The yield is then $\\Phi = \\frac{0.2 * 0.25}{0.025 + 0.2*0.25 + 0.4*0.25^2}=0.5$."
   ]
  },
  {
   "cell_type": "markdown",
   "metadata": {},
   "source": [
    "For fun let's plot the equation:"
   ]
  },
  {
   "cell_type": "code",
   "execution_count": 34,
   "metadata": {},
   "outputs": [
    {
     "data": {
      "image/png": "[encoded data removed]",
      "text/plain": [
       "<matplotlib.figure.Figure at 0x197813fdda0>"
      ]
     },
     "metadata": {},
     "output_type": "display_data"
    }
   ],
   "source": [
    "%matplotlib inline  \n",
    "import numpy as np\n",
    "import matplotlib.pyplot as plt\n",
    "ca = np.arange(0, 3, .01)\n",
    "phi = (0.2*ca)/(0.025+0.2*ca+0.4*ca*ca)\n",
    "#phi=(0.025-0.8*ca+0.4*ca*ca)\n",
    "plt.plot(ca, phi, 'b'); plt.xlabel('$C_A$'); _=plt.ylabel('$\\Phi$')"
   ]
  },
  {
   "cell_type": "markdown",
   "metadata": {},
   "source": [
    "# Question 2"
   ]
  },
  {
   "cell_type": "markdown",
   "metadata": {},
   "source": [
    "The insulin is given by $I(t)=4.5+40.5 t \\exp(-0.26t)$. The derivative is given by"
   ]
  },
  {
   "cell_type": "markdown",
   "metadata": {},
   "source": [
    "$$I'(t) = \\frac{d}{dt} ( 4.5+40.5 t \\exp(-0.26t) ) =  \\frac{d}{dt} (40.5 t \\exp(-0.26t)  ) = 40.5\\frac{d}{dt} (t \\exp(-0.26t)  )$$\n",
    "\n",
    "because the derivative of a constant is zero. Using the product rule applied to $t$ and $\\exp(-0.26t)$:\n",
    "\n",
    "$$I'(t) = 40.5 \\frac{d}{dt} (t \\exp(-0.26t)  ) = 40.5 \\frac{d}{dt} (t) * \\exp(-0.26t)  ) + 40.5 t \\frac{d}{dt} (\\exp(-0.26t)  )$$\n",
    "\n",
    "Using $\\frac{d}{dt} (t) = 1 $ and $\\frac{d}{dt} (\\exp(-0.26t)= -0.26 \\exp(-0.26t)$ then gives\n",
    "\n",
    "$$I'(t) = 40.5 \\exp(-0.26t)  + 40.5 t (-0.26 \\exp(-0.26t)  ) \\\\ = 40.5 \\left( \\exp(-0.26t) -0.26t \\exp(-0.26t) \\right) \\\\ = 40.5 ( 1 -0.26t) \\exp(-0.26t) $$\n"
   ]
  },
  {
   "cell_type": "markdown",
   "metadata": {},
   "source": [
    "(I have a minus sign in the equation that you do not have)"
   ]
  },
  {
   "cell_type": "code",
   "execution_count": null,
   "metadata": {
    "collapsed": true
   },
   "outputs": [],
   "source": []
  }
 ],
 "metadata": {
  "kernelspec": {
   "display_name": "Python 3",
   "language": "python",
   "name": "python3"
  },
  "language_info": {
   "codemirror_mode": {
    "name": "ipython",
    "version": 3
   },
   "file_extension": ".py",
   "mimetype": "text/x-python",
   "name": "python",
   "nbconvert_exporter": "python",
   "pygments_lexer": "ipython3",
   "version": "3.6.3"
  }
 },
 "nbformat": 4,
 "nbformat_minor": 2
}
